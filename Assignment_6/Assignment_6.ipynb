{
  "nbformat": 4,
  "nbformat_minor": 0,
  "metadata": {
    "kernelspec": {
      "display_name": "Python 3",
      "language": "python",
      "name": "python3"
    },
    "language_info": {
      "codemirror_mode": {
        "name": "ipython",
        "version": 3
      },
      "file_extension": ".py",
      "mimetype": "text/x-python",
      "name": "python",
      "nbconvert_exporter": "python",
      "pygments_lexer": "ipython3",
      "version": "3.7.6"
    },
    "colab": {
      "name": "Assignment_6.ipynb",
      "provenance": []
    }
  },
  "cells": [
    {
      "cell_type": "markdown",
      "metadata": {
        "id": "1s3IBNcvXeHi",
        "colab_type": "text"
      },
      "source": [
        "## SMS Spam Collection Data Set"
      ]
    },
    {
      "cell_type": "markdown",
      "metadata": {
        "id": "HK0RxsXTXeHl",
        "colab_type": "text"
      },
      "source": [
        "<b>Abstract:</b> The SMS Spam Collection is a public set of SMS labeled messages that have been collected for mobile phone spam research.\n",
        "\n",
        "<b>Data Set Information:</b>\n",
        "\n",
        "This corpus has been collected from free or free for research sources at the Internet:\n",
        "\n",
        "A collection of 425 SMS spam messages was manually extracted from the Grumbletext Web site. This is a UK forum in which cell phone users make public claims about SMS spam messages, most of them without reporting the very spam message received. The identification of the text of spam messages in the claims is a very hard and time-consuming task, and it involved carefully scanning hundreds of web pages.\n",
        "\n",
        "A subset of 3,375 SMS randomly chosen ham messages of the NUS SMS Corpus (NSC), which is a dataset of about 10,000 legitimate messages collected for research at the Department of Computer Science at the National University of Singapore. The messages largely originate from Singaporeans and mostly from students attending the University. These messages were collected from volunteers who were made aware that their contributions were going to be made publicly available.\n",
        "\n",
        "A list of 450 SMS ham messages collected from Caroline Tag's PhD Thesis.\n",
        "\n",
        "Finally, we have incorporated the SMS Spam Corpus v.0.1 Big. It has 1,002 SMS ham messages and 322 spam messages. This corpus has been used in the following academic researches:\n",
        "\n",
        "[1] GÃ³mez Hidalgo, J.M., Cajigas Bringas, G., Puertas Sanz, E., Carrero GarcÃ­a, F. Content Based SMS Spam Filtering. Proceedings of the 2006 ACM Symposium on Document Engineering (ACM DOCENG'06), Amsterdam, The Netherlands, 10-13, 2006.\n",
        "\n",
        "[2] Cormack, G. V., GÃ³mez Hidalgo, J. M., and Puertas SÃ¡nz, E. Feature engineering for mobile (SMS) spam filtering. Proceedings of the 30th Annual international ACM Conference on Research and Development in information Retrieval (ACM SIGIR'07), New York, NY, 871-872, 2007.\n",
        "\n",
        "[3] Cormack, G. V., GÃ³mez Hidalgo, J. M., and Puertas SÃ¡nz, E. Spam filtering for short messages. Proceedings of the 16th ACM Conference on Information and Knowledge Management (ACM CIKM'07). Lisbon, Portugal, 313-320, 2007.\n",
        "<br>\n",
        "<br>\n",
        "<b>\n",
        "Attribute Information:\n",
        "</b>\n",
        "\n",
        "The collection is composed by just one text file, where each line has the correct class followed by the raw message. We offer some examples bellow:\n",
        "\n",
        "ham What you doing?how are you?\n",
        "ham Ok lar... Joking wif u oni...\n",
        "ham dun say so early hor... U c already then say...\n",
        "ham MY NO. IN LUTON 0125698789 RING ME IF UR AROUND! H*\n",
        "ham Siva is in hostel aha:-.\n",
        "ham Cos i was out shopping wif darren jus now n i called him 2 ask wat present he wan lor. Then he started guessing who i was wif n he finally guessed darren lor.\n",
        "spam FreeMsg: Txt: CALL to No: 86888 & claim your reward of 3 hours talk time to use from your phone now! ubscribe6GBP/ mnth inc 3hrs 16 stop?txtStop\n",
        "spam Sunshine Quiz! Win a super Sony DVD recorder if you canname the capital of Australia? Text MQUIZ to 82277. B\n",
        "spam URGENT! Your Mobile No 07808726822 was awarded a L2,000 Bonus Caller Prize on 02/09/03! This is our 2nd attempt to contact YOU! Call 0871-872-9758 BOX95QU\n",
        "\n",
        "Note: the messages are not chronologically sorted."
      ]
    },
    {
      "cell_type": "markdown",
      "metadata": {
        "id": "bKBkLXASXeHn",
        "colab_type": "text"
      },
      "source": [
        "### 1. Loading the data"
      ]
    },
    {
      "cell_type": "code",
      "metadata": {
        "id": "jDUNaixiXeHr",
        "colab_type": "code",
        "colab": {}
      },
      "source": [
        "import numpy as np\n",
        "import pandas as pd\n",
        "import matplotlib.pyplot as plt\n",
        "import seaborn as sns"
      ],
      "execution_count": null,
      "outputs": []
    },
    {
      "cell_type": "code",
      "metadata": {
        "id": "FE0DoR5BXeIA",
        "colab_type": "code",
        "colab": {}
      },
      "source": [
        "import warnings\n",
        "warnings.filterwarnings('ignore')"
      ],
      "execution_count": null,
      "outputs": []
    },
    {
      "cell_type": "code",
      "metadata": {
        "id": "Enr5sqKMXeIK",
        "colab_type": "code",
        "colab": {}
      },
      "source": [
        "tweet_df= pd.read_csv(\"SMSSpamCollection.csv\", engine='python')"
      ],
      "execution_count": null,
      "outputs": []
    },
    {
      "cell_type": "code",
      "metadata": {
        "id": "kXIiszB0XeIU",
        "colab_type": "code",
        "colab": {},
        "outputId": "3996387f-c29c-4257-aeb8-83948f16883c"
      },
      "source": [
        "tweet_df.head()"
      ],
      "execution_count": null,
      "outputs": [
        {
          "output_type": "execute_result",
          "data": {
            "text/html": [
              "<div>\n",
              "<style scoped>\n",
              "    .dataframe tbody tr th:only-of-type {\n",
              "        vertical-align: middle;\n",
              "    }\n",
              "\n",
              "    .dataframe tbody tr th {\n",
              "        vertical-align: top;\n",
              "    }\n",
              "\n",
              "    .dataframe thead th {\n",
              "        text-align: right;\n",
              "    }\n",
              "</style>\n",
              "<table border=\"1\" class=\"dataframe\">\n",
              "  <thead>\n",
              "    <tr style=\"text-align: right;\">\n",
              "      <th></th>\n",
              "      <th>sms</th>\n",
              "      <th>message</th>\n",
              "    </tr>\n",
              "  </thead>\n",
              "  <tbody>\n",
              "    <tr>\n",
              "      <th>0</th>\n",
              "      <td>ham</td>\n",
              "      <td>Go until jurong point, crazy.. Available only ...</td>\n",
              "    </tr>\n",
              "    <tr>\n",
              "      <th>1</th>\n",
              "      <td>ham</td>\n",
              "      <td>Ok lar... Joking wif u oni...</td>\n",
              "    </tr>\n",
              "    <tr>\n",
              "      <th>2</th>\n",
              "      <td>spam</td>\n",
              "      <td>Free entry in 2 a wkly comp to win FA Cup fina...</td>\n",
              "    </tr>\n",
              "    <tr>\n",
              "      <th>3</th>\n",
              "      <td>ham</td>\n",
              "      <td>U dun say so early hor... U c already then say...</td>\n",
              "    </tr>\n",
              "    <tr>\n",
              "      <th>4</th>\n",
              "      <td>ham</td>\n",
              "      <td>Nah I don't think he goes to usf, he lives aro...</td>\n",
              "    </tr>\n",
              "  </tbody>\n",
              "</table>\n",
              "</div>"
            ],
            "text/plain": [
              "    sms                                            message\n",
              "0   ham  Go until jurong point, crazy.. Available only ...\n",
              "1   ham                      Ok lar... Joking wif u oni...\n",
              "2  spam  Free entry in 2 a wkly comp to win FA Cup fina...\n",
              "3   ham  U dun say so early hor... U c already then say...\n",
              "4   ham  Nah I don't think he goes to usf, he lives aro..."
            ]
          },
          "metadata": {
            "tags": []
          },
          "execution_count": 4
        }
      ]
    },
    {
      "cell_type": "code",
      "metadata": {
        "id": "6qxbYQNlXeIf",
        "colab_type": "code",
        "colab": {},
        "outputId": "8489812b-9b8f-4ad2-c7d8-09b74a8f010d"
      },
      "source": [
        "tweet_df.columns"
      ],
      "execution_count": null,
      "outputs": [
        {
          "output_type": "execute_result",
          "data": {
            "text/plain": [
              "Index(['sms', 'message'], dtype='object')"
            ]
          },
          "metadata": {
            "tags": []
          },
          "execution_count": 5
        }
      ]
    },
    {
      "cell_type": "markdown",
      "metadata": {
        "id": "nF1qSiPgXeIm",
        "colab_type": "text"
      },
      "source": [
        "### 2. EDA"
      ]
    },
    {
      "cell_type": "code",
      "metadata": {
        "id": "nArFlVBPXeIo",
        "colab_type": "code",
        "colab": {},
        "outputId": "e0e8c345-c4e3-45a5-8614-218f71946b5a"
      },
      "source": [
        "tweet_df.head()"
      ],
      "execution_count": null,
      "outputs": [
        {
          "output_type": "execute_result",
          "data": {
            "text/html": [
              "<div>\n",
              "<style scoped>\n",
              "    .dataframe tbody tr th:only-of-type {\n",
              "        vertical-align: middle;\n",
              "    }\n",
              "\n",
              "    .dataframe tbody tr th {\n",
              "        vertical-align: top;\n",
              "    }\n",
              "\n",
              "    .dataframe thead th {\n",
              "        text-align: right;\n",
              "    }\n",
              "</style>\n",
              "<table border=\"1\" class=\"dataframe\">\n",
              "  <thead>\n",
              "    <tr style=\"text-align: right;\">\n",
              "      <th></th>\n",
              "      <th>sms</th>\n",
              "      <th>message</th>\n",
              "    </tr>\n",
              "  </thead>\n",
              "  <tbody>\n",
              "    <tr>\n",
              "      <th>0</th>\n",
              "      <td>ham</td>\n",
              "      <td>Go until jurong point, crazy.. Available only ...</td>\n",
              "    </tr>\n",
              "    <tr>\n",
              "      <th>1</th>\n",
              "      <td>ham</td>\n",
              "      <td>Ok lar... Joking wif u oni...</td>\n",
              "    </tr>\n",
              "    <tr>\n",
              "      <th>2</th>\n",
              "      <td>spam</td>\n",
              "      <td>Free entry in 2 a wkly comp to win FA Cup fina...</td>\n",
              "    </tr>\n",
              "    <tr>\n",
              "      <th>3</th>\n",
              "      <td>ham</td>\n",
              "      <td>U dun say so early hor... U c already then say...</td>\n",
              "    </tr>\n",
              "    <tr>\n",
              "      <th>4</th>\n",
              "      <td>ham</td>\n",
              "      <td>Nah I don't think he goes to usf, he lives aro...</td>\n",
              "    </tr>\n",
              "  </tbody>\n",
              "</table>\n",
              "</div>"
            ],
            "text/plain": [
              "    sms                                            message\n",
              "0   ham  Go until jurong point, crazy.. Available only ...\n",
              "1   ham                      Ok lar... Joking wif u oni...\n",
              "2  spam  Free entry in 2 a wkly comp to win FA Cup fina...\n",
              "3   ham  U dun say so early hor... U c already then say...\n",
              "4   ham  Nah I don't think he goes to usf, he lives aro..."
            ]
          },
          "metadata": {
            "tags": []
          },
          "execution_count": 6
        }
      ]
    },
    {
      "cell_type": "code",
      "metadata": {
        "id": "kz0hus_TXeIw",
        "colab_type": "code",
        "colab": {},
        "outputId": "2d2eb891-12f5-43ff-cecf-57fb91dc5cc0"
      },
      "source": [
        "tweet_df.shape"
      ],
      "execution_count": null,
      "outputs": [
        {
          "output_type": "execute_result",
          "data": {
            "text/plain": [
              "(5574, 2)"
            ]
          },
          "metadata": {
            "tags": []
          },
          "execution_count": 7
        }
      ]
    },
    {
      "cell_type": "code",
      "metadata": {
        "id": "PnGbmpz7XeI5",
        "colab_type": "code",
        "colab": {},
        "outputId": "5ccb1583-8c14-4d40-8cf5-d1c989fa16c8"
      },
      "source": [
        "tweet_df['sms'].value_counts()"
      ],
      "execution_count": null,
      "outputs": [
        {
          "output_type": "execute_result",
          "data": {
            "text/plain": [
              "ham     4827\n",
              "spam     747\n",
              "Name: sms, dtype: int64"
            ]
          },
          "metadata": {
            "tags": []
          },
          "execution_count": 8
        }
      ]
    },
    {
      "cell_type": "code",
      "metadata": {
        "id": "O7T_k3GuXeJE",
        "colab_type": "code",
        "colab": {},
        "outputId": "6958cdcb-d67d-43c3-caaa-f532853478bd"
      },
      "source": [
        "sns.countplot(x='sms', data=tweet_df)"
      ],
      "execution_count": null,
      "outputs": [
        {
          "output_type": "execute_result",
          "data": {
            "text/plain": [
              "<matplotlib.axes._subplots.AxesSubplot at 0x1cd9dde9cc8>"
            ]
          },
          "metadata": {
            "tags": []
          },
          "execution_count": 9
        },
        {
          "output_type": "display_data",
          "data": {
            "image/png": "[encoded data removed]",
            "text/plain": [
              "<Figure size 432x288 with 1 Axes>"
            ]
          },
          "metadata": {
            "tags": [],
            "needs_background": "light"
          }
        }
      ]
    },
    {
      "cell_type": "markdown",
      "metadata": {
        "id": "piewVoRZXeKi",
        "colab_type": "text"
      },
      "source": [
        "### 3. Data Preprocessing"
      ]
    },
    {
      "cell_type": "code",
      "metadata": {
        "id": "N-XEl4FXXeKo",
        "colab_type": "code",
        "colab": {}
      },
      "source": [
        "import re\n",
        "import nltk\n",
        "from nltk.tokenize import word_tokenize\n",
        "from nltk.corpus import stopwords\n",
        "from nltk.stem.porter import PorterStemmer\n",
        "from nltk.stem import WordNetLemmatizer"
      ],
      "execution_count": null,
      "outputs": []
    },
    {
      "cell_type": "code",
      "metadata": {
        "id": "D8kyg3egXeK5",
        "colab_type": "code",
        "colab": {}
      },
      "source": [
        "# initialise the inbuilt Stemmer\n",
        "stemmer = PorterStemmer()"
      ],
      "execution_count": null,
      "outputs": []
    },
    {
      "cell_type": "code",
      "metadata": {
        "id": "fWikM1N8XeLI",
        "colab_type": "code",
        "colab": {}
      },
      "source": [
        "# We can also use Lemmatizer instead of Stemmer\n",
        "lemmatizer = WordNetLemmatizer()"
      ],
      "execution_count": null,
      "outputs": []
    },
    {
      "cell_type": "code",
      "metadata": {
        "id": "j7n4j0eLXeLr",
        "colab_type": "code",
        "colab": {}
      },
      "source": [
        "# initializing the lists\n",
        "clean_tweet_lst = []\n",
        "tweet_len_lst = []"
      ],
      "execution_count": null,
      "outputs": []
    },
    {
      "cell_type": "code",
      "metadata": {
        "id": "dFbiVKvDXeMA",
        "colab_type": "code",
        "colab": {}
      },
      "source": [
        "def preprocess(raw_tweet, flag):\n",
        "    # Removing special characters and digits\n",
        "    letters_only = re.sub(\"[^a-zA-Z]\", \" \",raw_tweet)\n",
        "    letters_only = letters_only.lower()\n",
        "\n",
        "    # tokenize into words\n",
        "    words = letters_only.split()\n",
        "    \n",
        "    # remove stop words                \n",
        "    words = [w for w in words if not w in stopwords.words(\"english\")]\n",
        "    \n",
        "    # Stemming/Lemmatization\n",
        "    if(flag == 'stem'):\n",
        "        words = [stemmer.stem(word) for word in words]\n",
        "    else:\n",
        "        words = [lemmatizer.lemmatize(word) for word in words]\n",
        "    \n",
        "    clean_tweet_lst.append(\" \".join(words))\n",
        "    tweet_len_lst.append(len(words))"
      ],
      "execution_count": null,
      "outputs": []
    },
    {
      "cell_type": "code",
      "metadata": {
        "id": "5y1bLSQSXeMO",
        "colab_type": "code",
        "colab": {}
      },
      "source": [
        "tweet_df['sms_spam']=tweet_df['sms'].apply(lambda x: 0 if x=='spam' else 1)"
      ],
      "execution_count": null,
      "outputs": []
    },
    {
      "cell_type": "code",
      "metadata": {
        "id": "wrvVWUnJXeMd",
        "colab_type": "code",
        "colab": {}
      },
      "source": [
        "clean_tweet_lst = []\n",
        "tweet_len_lst = []\n",
        "\n",
        "tweet_df['message'].apply(lambda x: preprocess(x, 'stem'))\n",
        "\n",
        "tweet_df['clean_tweet_stem'] = clean_tweet_lst\n",
        "\n",
        "tweet_df['tweet_length_stem'] = tweet_len_lst"
      ],
      "execution_count": null,
      "outputs": []
    },
    {
      "cell_type": "code",
      "metadata": {
        "id": "n-p3Zi8rXeMs",
        "colab_type": "code",
        "colab": {}
      },
      "source": [
        "clean_tweet_lst = []\n",
        "tweet_len_lst = []\n",
        "\n",
        "tweet_df['message'].apply(lambda x: preprocess(x, 'lemma'))\n",
        "\n",
        "tweet_df['clean_tweet_lema'] = clean_tweet_lst\n",
        "\n",
        "tweet_df['tweet_length_lema'] = tweet_len_lst"
      ],
      "execution_count": null,
      "outputs": []
    },
    {
      "cell_type": "code",
      "metadata": {
        "id": "pIJPFM3wXeNA",
        "colab_type": "code",
        "colab": {},
        "outputId": "6aa8c932-a700-45a0-f9da-17f1947afdb0"
      },
      "source": [
        "tweet_df.head()"
      ],
      "execution_count": null,
      "outputs": [
        {
          "output_type": "execute_result",
          "data": {
            "text/html": [
              "<div>\n",
              "<style scoped>\n",
              "    .dataframe tbody tr th:only-of-type {\n",
              "        vertical-align: middle;\n",
              "    }\n",
              "\n",
              "    .dataframe tbody tr th {\n",
              "        vertical-align: top;\n",
              "    }\n",
              "\n",
              "    .dataframe thead th {\n",
              "        text-align: right;\n",
              "    }\n",
              "</style>\n",
              "<table border=\"1\" class=\"dataframe\">\n",
              "  <thead>\n",
              "    <tr style=\"text-align: right;\">\n",
              "      <th></th>\n",
              "      <th>sms</th>\n",
              "      <th>message</th>\n",
              "      <th>sms_spam</th>\n",
              "      <th>clean_tweet_stem</th>\n",
              "      <th>tweet_length_stem</th>\n",
              "      <th>clean_tweet_lema</th>\n",
              "      <th>tweet_length_lema</th>\n",
              "    </tr>\n",
              "  </thead>\n",
              "  <tbody>\n",
              "    <tr>\n",
              "      <th>0</th>\n",
              "      <td>ham</td>\n",
              "      <td>Go until jurong point, crazy.. Available only ...</td>\n",
              "      <td>1</td>\n",
              "      <td>go jurong point crazi avail bugi n great world...</td>\n",
              "      <td>16</td>\n",
              "      <td>go jurong point crazy available bugis n great ...</td>\n",
              "      <td>16</td>\n",
              "    </tr>\n",
              "    <tr>\n",
              "      <th>1</th>\n",
              "      <td>ham</td>\n",
              "      <td>Ok lar... Joking wif u oni...</td>\n",
              "      <td>1</td>\n",
              "      <td>ok lar joke wif u oni</td>\n",
              "      <td>6</td>\n",
              "      <td>ok lar joking wif u oni</td>\n",
              "      <td>6</td>\n",
              "    </tr>\n",
              "    <tr>\n",
              "      <th>2</th>\n",
              "      <td>spam</td>\n",
              "      <td>Free entry in 2 a wkly comp to win FA Cup fina...</td>\n",
              "      <td>0</td>\n",
              "      <td>free entri wkli comp win fa cup final tkt st m...</td>\n",
              "      <td>21</td>\n",
              "      <td>free entry wkly comp win fa cup final tkts st ...</td>\n",
              "      <td>21</td>\n",
              "    </tr>\n",
              "    <tr>\n",
              "      <th>3</th>\n",
              "      <td>ham</td>\n",
              "      <td>U dun say so early hor... U c already then say...</td>\n",
              "      <td>1</td>\n",
              "      <td>u dun say earli hor u c alreadi say</td>\n",
              "      <td>9</td>\n",
              "      <td>u dun say early hor u c already say</td>\n",
              "      <td>9</td>\n",
              "    </tr>\n",
              "    <tr>\n",
              "      <th>4</th>\n",
              "      <td>ham</td>\n",
              "      <td>Nah I don't think he goes to usf, he lives aro...</td>\n",
              "      <td>1</td>\n",
              "      <td>nah think goe usf live around though</td>\n",
              "      <td>7</td>\n",
              "      <td>nah think go usf life around though</td>\n",
              "      <td>7</td>\n",
              "    </tr>\n",
              "  </tbody>\n",
              "</table>\n",
              "</div>"
            ],
            "text/plain": [
              "    sms                                            message  sms_spam  \\\n",
              "0   ham  Go until jurong point, crazy.. Available only ...         1   \n",
              "1   ham                      Ok lar... Joking wif u oni...         1   \n",
              "2  spam  Free entry in 2 a wkly comp to win FA Cup fina...         0   \n",
              "3   ham  U dun say so early hor... U c already then say...         1   \n",
              "4   ham  Nah I don't think he goes to usf, he lives aro...         1   \n",
              "\n",
              "                                    clean_tweet_stem  tweet_length_stem  \\\n",
              "0  go jurong point crazi avail bugi n great world...                 16   \n",
              "1                              ok lar joke wif u oni                  6   \n",
              "2  free entri wkli comp win fa cup final tkt st m...                 21   \n",
              "3                u dun say earli hor u c alreadi say                  9   \n",
              "4               nah think goe usf live around though                  7   \n",
              "\n",
              "                                    clean_tweet_lema  tweet_length_lema  \n",
              "0  go jurong point crazy available bugis n great ...                 16  \n",
              "1                            ok lar joking wif u oni                  6  \n",
              "2  free entry wkly comp win fa cup final tkts st ...                 21  \n",
              "3                u dun say early hor u c already say                  9  \n",
              "4                nah think go usf life around though                  7  "
            ]
          },
          "metadata": {
            "tags": []
          },
          "execution_count": 26
        }
      ]
    },
    {
      "cell_type": "markdown",
      "metadata": {
        "id": "4VMNCMoEXeNO",
        "colab_type": "text"
      },
      "source": [
        "### 4. Data Preparation"
      ]
    },
    {
      "cell_type": "code",
      "metadata": {
        "id": "JVw77zm-XeNQ",
        "colab_type": "code",
        "colab": {}
      },
      "source": [
        "# splitting into test and train\n",
        "\n",
        "from sklearn.model_selection  import train_test_split\n",
        "train, test = train_test_split(tweet_df,test_size=0.2,random_state=42)"
      ],
      "execution_count": null,
      "outputs": []
    },
    {
      "cell_type": "code",
      "metadata": {
        "id": "CyXR-YO5XeNi",
        "colab_type": "code",
        "colab": {}
      },
      "source": [
        "train_clean_tweet=[]\n",
        "for tweet in train['clean_tweet_stem']:\n",
        "    train_clean_tweet.append(tweet)\n",
        "\n",
        "test_clean_tweet=[]\n",
        "for tweet in test['clean_tweet_stem']:\n",
        "    test_clean_tweet.append(tweet)"
      ],
      "execution_count": null,
      "outputs": []
    },
    {
      "cell_type": "code",
      "metadata": {
        "id": "n3_6x-AXXeN1",
        "colab_type": "code",
        "colab": {}
      },
      "source": [
        "from sklearn.feature_extraction.text import CountVectorizer\n",
        "\n",
        "vectorizer = CountVectorizer(analyzer = \"word\")\n",
        "train_features = vectorizer.fit_transform(train_clean_tweet)\n",
        "test_features = vectorizer.transform(test_clean_tweet)"
      ],
      "execution_count": null,
      "outputs": []
    },
    {
      "cell_type": "code",
      "metadata": {
        "id": "wJSKb9wjXeOE",
        "colab_type": "code",
        "colab": {},
        "outputId": "5ae8ac66-a6b4-4445-8f9a-090f52af3b23"
      },
      "source": [
        "vectorizer.vocabulary_"
      ],
      "execution_count": null,
      "outputs": [
        {
          "output_type": "execute_result",
          "data": {
            "text/plain": [
              "{'free': 1767,\n",
              " 'day': 1128,\n",
              " 'sexi': 4219,\n",
              " 'st': 4530,\n",
              " 'georg': 1875,\n",
              " 'pic': 3567,\n",
              " 'jordan': 2469,\n",
              " 'txt': 5053,\n",
              " 'dont': 1306,\n",
              " 'miss': 2999,\n",
              " 'everi': 1513,\n",
              " 'wk': 5424,\n",
              " 'sauci': 4126,\n",
              " 'celeb': 763,\n",
              " 'pocketbab': 3624,\n",
              " 'co': 906,\n",
              " 'uk': 5075,\n",
              " 'armand': 267,\n",
              " 'say': 4131,\n",
              " 'get': 1879,\n",
              " 'ass': 297,\n",
              " 'epsilon': 1477,\n",
              " 'lol': 2733,\n",
              " 'hot': 2190,\n",
              " 'air': 109,\n",
              " 'balloon': 387,\n",
              " 'know': 2564,\n",
              " 'wot': 5466,\n",
              " 'peopl': 3516,\n",
              " 'wear': 5315,\n",
              " 'shirt': 4262,\n",
              " 'jumper': 2487,\n",
              " 'hat': 2072,\n",
              " 'belt': 465,\n",
              " 'cribb': 1050,\n",
              " 'good': 1938,\n",
              " 'morn': 3062,\n",
              " 'love': 2769,\n",
              " 'go': 1920,\n",
              " 'sleep': 4357,\n",
              " 'wish': 5411,\n",
              " 'great': 1987,\n",
              " 'full': 1812,\n",
              " 'feel': 1626,\n",
              " 'better': 478,\n",
              " 'opportun': 3368,\n",
              " 'last': 2615,\n",
              " 'thought': 4865,\n",
              " 'babe': 365,\n",
              " 'kiss': 2555,\n",
              " 'ur': 5143,\n",
              " 'bahama': 377,\n",
              " 'callfreefon': 701,\n",
              " 'speak': 4473,\n",
              " 'live': 2709,\n",
              " 'oper': 3364,\n",
              " 'claim': 871,\n",
              " 'either': 1423,\n",
              " 'cruis': 1060,\n",
              " 'cash': 745,\n",
              " 'opt': 3371,\n",
              " 'sorri': 4450,\n",
              " 'abl': 15,\n",
              " 'see': 4177,\n",
              " 'call': 695,\n",
              " 'later': 2618,\n",
              " 'parti': 3471,\n",
              " 'alex': 129,\n",
              " 'nichol': 3214,\n",
              " 'crazi': 1039,\n",
              " 'ar': 251,\n",
              " 'marri': 2878,\n",
              " 'like': 2682,\n",
              " 'gd': 1858,\n",
              " 'look': 2744,\n",
              " 'guy': 2023,\n",
              " 'fren': 1776,\n",
              " 'korean': 2574,\n",
              " 'leona': 2658,\n",
              " 'fave': 1613,\n",
              " 'dun': 1365,\n",
              " 'thk': 4853,\n",
              " 'aft': 88,\n",
              " 'think': 4847,\n",
              " 'mayb': 2905,\n",
              " 'prob': 3744,\n",
              " 'somewher': 4431,\n",
              " 'fredericksburg': 1766,\n",
              " 'issu': 2390,\n",
              " 'right': 4012,\n",
              " 'ill': 2275,\n",
              " 'fix': 1683,\n",
              " 'tomorrow': 4943,\n",
              " 'wah': 5262,\n",
              " 'lucki': 2793,\n",
              " 'man': 2851,\n",
              " 'save': 4129,\n",
              " 'money': 3048,\n",
              " 'hee': 2106,\n",
              " 'beneath': 468,\n",
              " 'pale': 3442,\n",
              " 'moon': 3059,\n",
              " 'light': 2678,\n",
              " 'someon': 4423,\n",
              " 'dream': 1333,\n",
              " 'come': 932,\n",
              " 'true': 5019,\n",
              " 'goodnit': 1945,\n",
              " 'amp': 173,\n",
              " 'sweet': 4700,\n",
              " 'ye': 5539,\n",
              " 'appt': 244,\n",
              " 'tmr': 4915,\n",
              " 'timin': 4897,\n",
              " 'still': 4572,\n",
              " 'da': 1099,\n",
              " 'wat': 5295,\n",
              " 'got': 1955,\n",
              " 'lesson': 2662,\n",
              " 'ta': 4721,\n",
              " 'job': 2456,\n",
              " 'avail': 336,\n",
              " 'let': 2663,\n",
              " 'pleas': 3603,\n",
              " 'realli': 3892,\n",
              " 'need': 3181,\n",
              " 'start': 4545,\n",
              " 'work': 5455,\n",
              " 'refus': 3928,\n",
              " 'loan': 2720,\n",
              " 'secur': 4175,\n",
              " 'unsecur': 5125,\n",
              " 'credit': 1046,\n",
              " 'text': 4807,\n",
              " 'back': 369,\n",
              " 'help': 2116,\n",
              " 'secret': 4172,\n",
              " 'admir': 63,\n",
              " 'reveal': 3997,\n",
              " 'special': 4474,\n",
              " 'repli': 3963,\n",
              " 'stop': 4581,\n",
              " 'per': 3517,\n",
              " 'msg': 3090,\n",
              " 'recd': 3901,\n",
              " 'cust': 1087,\n",
              " 'care': 732,\n",
              " 'ugh': 5070,\n",
              " 'fuck': 1804,\n",
              " 'resub': 3989,\n",
              " 'eve': 1508,\n",
              " 'anyth': 212,\n",
              " 'lor': 2752,\n",
              " 'congratul': 972,\n",
              " 'thank': 4820,\n",
              " 'friend': 1785,\n",
              " 'xma': 5508,\n",
              " 'prize': 3741,\n",
              " 'easi': 1383,\n",
              " 'minut': 2992,\n",
              " 'bt': 641,\n",
              " 'nation': 3160,\n",
              " 'rate': 3867,\n",
              " 'wil': 5390,\n",
              " 'reach': 3881,\n",
              " 'chuckin': 860,\n",
              " 'red': 3917,\n",
              " 'green': 1990,\n",
              " 'black': 516,\n",
              " 'trainner': 4989,\n",
              " 'carryin': 742,\n",
              " 'bac': 368,\n",
              " 'train': 4988,\n",
              " 'ha': 2028,\n",
              " 'us': 5155,\n",
              " 'thing': 4846,\n",
              " 'tv': 5043,\n",
              " 'watch': 5296,\n",
              " 'tonight': 4950,\n",
              " 'alreadi': 148,\n",
              " 'haf': 2032,\n",
              " 'smth': 4396,\n",
              " 'mind': 2979,\n",
              " 'chanc': 783,\n",
              " 'search': 4166,\n",
              " 'hard': 2063,\n",
              " 'tri': 5007,\n",
              " 'shop': 4274,\n",
              " 'till': 4894,\n",
              " 'drop': 1345,\n",
              " 'travel': 4998,\n",
              " 'voucher': 5252,\n",
              " 'ntt': 3281,\n",
              " 'po': 3618,\n",
              " 'box': 581,\n",
              " 'cr': 1030,\n",
              " 'fixedlin': 1684,\n",
              " 'cost': 1007,\n",
              " 'ppm': 3677,\n",
              " 'mobil': 3029,\n",
              " 'vari': 5186,\n",
              " 'yup': 5583,\n",
              " 'studi': 4615,\n",
              " 'surf': 4679,\n",
              " 'lazi': 2628,\n",
              " 'mode': 3036,\n",
              " 'today': 4925,\n",
              " 'bitch': 512,\n",
              " 'act': 46,\n",
              " 'interest': 2356,\n",
              " 'buy': 676,\n",
              " 'someth': 4426,\n",
              " 'els': 1434,\n",
              " 'next': 3209,\n",
              " 'week': 5329,\n",
              " 'gave': 1851,\n",
              " 'heard': 2098,\n",
              " 'abt': 20,\n",
              " 'tat': 4753,\n",
              " 'oh': 3328,\n",
              " 'gei': 1864,\n",
              " 'happend': 2059,\n",
              " 'tron': 5014,\n",
              " 'dl': 1277,\n",
              " 'puriti': 3805,\n",
              " 'friendship': 1786,\n",
              " 'two': 5052,\n",
              " 'smile': 4388,\n",
              " 'read': 3884,\n",
              " 'forward': 1748,\n",
              " 'messag': 2952,\n",
              " 'name': 3146,\n",
              " 'gud': 2012,\n",
              " 'evng': 1527,\n",
              " 'leav': 2644,\n",
              " 'yet': 5553,\n",
              " 'ok': 3332,\n",
              " 'elsewher': 1435,\n",
              " 'eat': 1390,\n",
              " 'camera': 708,\n",
              " 'quit': 3832,\n",
              " 'mega': 2929,\n",
              " 'pixel': 3587,\n",
              " 'optic': 3372,\n",
              " 'digit': 1235,\n",
              " 'doom': 1311,\n",
              " 'holiday': 2164,\n",
              " 'safe': 4084,\n",
              " 'hope': 2181,\n",
              " 'hav': 2076,\n",
              " 'journey': 2472,\n",
              " 'happi': 2061,\n",
              " 'new': 3201,\n",
              " 'year': 5541,\n",
              " 'coupl': 1019,\n",
              " 'decis': 1148,\n",
              " 'could': 1013,\n",
              " 'decid': 1146,\n",
              " 'life': 2673,\n",
              " 'would': 5469,\n",
              " 'much': 3103,\n",
              " 'simpler': 4319,\n",
              " 'less': 2660,\n",
              " 'magic': 2832,\n",
              " 'ya': 5524,\n",
              " 'cant': 720,\n",
              " 'display': 1267,\n",
              " 'intern': 2358,\n",
              " 'sub': 4624,\n",
              " 'gotta': 1962,\n",
              " 'extract': 1569,\n",
              " 'dice': 1219,\n",
              " 'art': 279,\n",
              " 'class': 876,\n",
              " 'thru': 4876,\n",
              " 'though': 4864,\n",
              " 'idea': 2259,\n",
              " 'time': 4895,\n",
              " 'well': 5342,\n",
              " 'weekend': 5331,\n",
              " 'mani': 2861,\n",
              " 'sinc': 4323,\n",
              " 'melodi': 2936,\n",
              " 'run': 4067,\n",
              " 'ttyl': 5031,\n",
              " 'yep': 5549,\n",
              " 'derek': 1189,\n",
              " 'hous': 2197,\n",
              " 'sunday': 4656,\n",
              " 'lt': 2786,\n",
              " 'mr': 3084,\n",
              " 'sheffield': 4248,\n",
              " 'wanna': 5283,\n",
              " 'play': 3598,\n",
              " 'game': 1835,\n",
              " 'okay': 3333,\n",
              " 'boss': 571,\n",
              " 'nanni': 3151,\n",
              " 'give': 1903,\n",
              " 'rais': 3846,\n",
              " 'one': 3351,\n",
              " 'senthil': 4202,\n",
              " 'group': 2000,\n",
              " 'compani': 943,\n",
              " 'apnt': 223,\n",
              " 'pm': 3616,\n",
              " 'friday': 1783,\n",
              " 'find': 1664,\n",
              " 'altern': 153,\n",
              " 'yr': 5575,\n",
              " 'term': 4797,\n",
              " 'im': 2278,\n",
              " 'suffer': 4640,\n",
              " 'fever': 1638,\n",
              " 'dysentri': 1376,\n",
              " 'offic': 3319,\n",
              " 'bill': 498,\n",
              " 'letter': 2664,\n",
              " 'expect': 1553,\n",
              " 'orang': 3379,\n",
              " 'may': 2904,\n",
              " 'send': 4194,\n",
              " 'haha': 2033,\n",
              " 'yeah': 5540,\n",
              " 'oz': 3430,\n",
              " 'kind': 2547,\n",
              " 'shitload': 4267,\n",
              " 'told': 4933,\n",
              " 'accentur': 27,\n",
              " 'confirm': 967,\n",
              " 'respons': 3984,\n",
              " 'date': 1123,\n",
              " 'servic': 4212,\n",
              " 'cal': 690,\n",
              " 'sk': 4343,\n",
              " 'ch': 775,\n",
              " 'aathi': 4,\n",
              " 'lot': 2758,\n",
              " 'gonna': 1936,\n",
              " 'death': 1141,\n",
              " 'note': 3262,\n",
              " 'rob': 4027,\n",
              " 'fault': 1611,\n",
              " 'aveng': 342,\n",
              " 'usual': 5165,\n",
              " 'iam': 2243,\n",
              " 'fine': 1665,\n",
              " 'total': 4972,\n",
              " 'disappoint': 1255,\n",
              " 'craziest': 1040,\n",
              " 'shit': 4263,\n",
              " 'anyon': 210,\n",
              " 'spare': 4469,\n",
              " 'room': 4039,\n",
              " 'top': 4960,\n",
              " 'head': 2088,\n",
              " 'said': 4086,\n",
              " 'matter': 2898,\n",
              " 'colleg': 927,\n",
              " 'atten': 319,\n",
              " 'super': 4665,\n",
              " 'nalla': 3144,\n",
              " 'everyth': 1519,\n",
              " 'dehydr': 1166,\n",
              " 'babi': 366,\n",
              " 'pictur': 3571,\n",
              " 'facebook': 1576,\n",
              " 'hey': 2127,\n",
              " 'breath': 603,\n",
              " 'neck': 3178,\n",
              " 'bud': 648,\n",
              " 'anyway': 217,\n",
              " 'half': 2041,\n",
              " 'track': 4984,\n",
              " 'usf': 5162,\n",
              " 'film': 1656,\n",
              " 'comput': 956,\n",
              " 'brah': 588,\n",
              " 'urgent': 5147,\n",
              " 'landlin': 2600,\n",
              " 'complimentari': 953,\n",
              " 'ibiza': 2246,\n",
              " 'await': 348,\n",
              " 'collect': 926,\n",
              " 'sae': 4082,\n",
              " 'cs': 1063,\n",
              " 'wp': 5473,\n",
              " 'normal': 3257,\n",
              " 'panic': 3447,\n",
              " 'tuesday': 5033,\n",
              " 'goodmorn': 1943,\n",
              " 'late': 2616,\n",
              " 'hr': 2208,\n",
              " 'rock': 4028,\n",
              " 'press': 3715,\n",
              " 'confer': 964,\n",
              " 'probabl': 3745,\n",
              " 'around': 272,\n",
              " 'mu': 3101,\n",
              " 'bugi': 655,\n",
              " 'oso': 3396,\n",
              " 'near': 3171,\n",
              " 'multimedia': 3110,\n",
              " 'mail': 2838,\n",
              " 'wait': 5269,\n",
              " 'machan': 2816,\n",
              " 'talk': 4737,\n",
              " 'amma': 167,\n",
              " 'take': 4733,\n",
              " 'turn': 5042,\n",
              " 'sit': 4334,\n",
              " 'hold': 2160,\n",
              " 'steer': 4561,\n",
              " 'heehe': 2107,\n",
              " 'funni': 1821,\n",
              " 'tho': 4861,\n",
              " 'nt': 3278,\n",
              " 'dai': 1104,\n",
              " 'gt': 2007,\n",
              " 'naal': 3137,\n",
              " 'eruku': 1487,\n",
              " 'antibiot': 206,\n",
              " 'use': 5159,\n",
              " 'chest': 821,\n",
              " 'abdomen': 7,\n",
              " 'gyna': 2027,\n",
              " 'infect': 2323,\n",
              " 'even': 1510,\n",
              " 'bone': 555,\n",
              " 'how': 2199,\n",
              " 'champ': 780,\n",
              " 'glasgow': 1907,\n",
              " 'dear': 1138,\n",
              " 'hero': 2123,\n",
              " 'qatar': 3815,\n",
              " 'tonit': 4951,\n",
              " 'apt': 248,\n",
              " 'pl': 3589,\n",
              " 'keep': 2525,\n",
              " 'touch': 4974,\n",
              " 'email': 1437,\n",
              " 'kerala': 2531,\n",
              " 'forgot': 1739,\n",
              " 'eh': 1418,\n",
              " 'bring': 614,\n",
              " 'what': 5360,\n",
              " 'plan': 3593,\n",
              " 'sat': 4119,\n",
              " 'never': 3198,\n",
              " 'answer': 199,\n",
              " 'deni': 1180,\n",
              " 'telugu': 4787,\n",
              " 'movi': 3079,\n",
              " 'pick': 3568,\n",
              " 'winner': 5404,\n",
              " 'valu': 5182,\n",
              " 'network': 3195,\n",
              " 'custom': 1089,\n",
              " 'select': 4183,\n",
              " 'receivea': 3904,\n",
              " 'reward': 4001,\n",
              " 'code': 915,\n",
              " 'kl': 2558,\n",
              " 'valid': 5181,\n",
              " 'hour': 2195,\n",
              " 'number': 3287,\n",
              " 'neft': 3183,\n",
              " 'transact': 4991,\n",
              " 'refer': 3922,\n",
              " 'rs': 4051,\n",
              " 'decim': 1147,\n",
              " 'beneficiari': 469,\n",
              " 'account': 37,\n",
              " 'dollar': 1301,\n",
              " 'hi': 2130,\n",
              " 'mrw': 3088,\n",
              " 'ninish': 3227,\n",
              " 'address': 58,\n",
              " 'icki': 2254,\n",
              " 'american': 163,\n",
              " 'freek': 1771,\n",
              " 'wont': 5447,\n",
              " 'callin': 702,\n",
              " 'bad': 372,\n",
              " 'jen': 2437,\n",
              " 'pa': 3431,\n",
              " 'self': 4184,\n",
              " 'knacker': 2559,\n",
              " 'came': 707,\n",
              " 'home': 2167,\n",
              " 'went': 5347,\n",
              " 'lark': 2613,\n",
              " 'gram': 1973,\n",
              " 'eighth': 1420,\n",
              " 'smarter': 4383,\n",
              " 'almost': 144,\n",
              " 'whole': 5375,\n",
              " 'second': 4170,\n",
              " 'ola': 3339,\n",
              " 'direct': 1248,\n",
              " 'link': 2695,\n",
              " 'car': 728,\n",
              " 'bid': 494,\n",
              " 'onlin': 3354,\n",
              " 'arrang': 275,\n",
              " 'ship': 4261,\n",
              " 'cut': 1091,\n",
              " 'partnership': 3476,\n",
              " 'invest': 2367,\n",
              " 'rest': 3985,\n",
              " 'wud': 5492,\n",
              " 'reliant': 3942,\n",
              " 'soon': 4442,\n",
              " 'dnt': 1281,\n",
              " 'worri': 5460,\n",
              " 'wet': 5358,\n",
              " 'men': 2941,\n",
              " 'shorter': 4282,\n",
              " 'ladi': 2590,\n",
              " 'gaze': 1855,\n",
              " 'eye': 1571,\n",
              " 'gnarl': 1917,\n",
              " 'barkley': 403,\n",
              " 'rington': 4017,\n",
              " 'fli': 1698,\n",
              " 'monkey': 3050,\n",
              " 'certainli': 773,\n",
              " 'mine': 2981,\n",
              " 'settl': 4214,\n",
              " 'school': 4142,\n",
              " 'wishin': 5412,\n",
              " 'gr': 1969,\n",
              " 'shoot': 4273,\n",
              " 'doc': 1284,\n",
              " 'make': 2843,\n",
              " 'appoint': 239,\n",
              " 'voda': 5241,\n",
              " 'end': 1448,\n",
              " 'receiv': 3903,\n",
              " 'award': 350,\n",
              " 'hava': 2077,\n",
              " 'match': 2890,\n",
              " 'quot': 3836,\n",
              " 'standard': 4540,\n",
              " 'app': 228,\n",
              " 'listen': 2703,\n",
              " 'twice': 5047,\n",
              " 'rip': 4020,\n",
              " 'uteru': 5167,\n",
              " 'wow': 5472,\n",
              " 'healthi': 2095,\n",
              " 'old': 3343,\n",
              " 'airport': 110,\n",
              " 'rd': 3879,\n",
              " 'bath': 413,\n",
              " 'dog': 1293,\n",
              " 'sure': 4678,\n",
              " 'drive': 1340,\n",
              " 'destin': 1200,\n",
              " 'ju': 2479,\n",
              " 'ate': 308,\n",
              " 'honey': 2171,\n",
              " 'hdd': 2086,\n",
              " 'case': 744,\n",
              " 'meet': 2926,\n",
              " 'librari': 2669,\n",
              " 'privat': 3738,\n",
              " 'statement': 4550,\n",
              " 'nice': 3213,\n",
              " 'readi': 3886,\n",
              " 'thursday': 4880,\n",
              " 'believ': 457,\n",
              " 'want': 5285,\n",
              " 'beauti': 433,\n",
              " 'abta': 21,\n",
              " 'spanish': 4468,\n",
              " 'ez': 1572,\n",
              " 'hack': 2031,\n",
              " 'chat': 798,\n",
              " 'backdoor': 370,\n",
              " 'entri': 1468,\n",
              " 'fraction': 1757,\n",
              " 'neo': 3189,\n",
              " 'subscrib': 4628,\n",
              " 'dp': 1324,\n",
              " 'bcm': 426,\n",
              " 'ldn': 2633,\n",
              " 'wc': 5312,\n",
              " 'xx': 5513,\n",
              " 'show': 4289,\n",
              " 'unredeem': 5124,\n",
              " 'bonu': 557,\n",
              " 'point': 3628,\n",
              " 'identifi': 2262,\n",
              " 'expir': 1558,\n",
              " 'depend': 1185,\n",
              " 'alright': 149,\n",
              " 'advic': 74,\n",
              " 'enjoy': 1457,\n",
              " 'night': 3221,\n",
              " 'lov': 2767,\n",
              " 'nevr': 3200,\n",
              " 'unrecogn': 5123,\n",
              " 'somon': 4434,\n",
              " 'often': 3325,\n",
              " 'mistak': 3007,\n",
              " 'definitli': 1163,\n",
              " 'undrstnd': 5099,\n",
              " 'yay': 5537,\n",
              " 'final': 1660,\n",
              " 'cinema': 864,\n",
              " 'trip': 5009,\n",
              " 'urself': 5154,\n",
              " 'present': 3713,\n",
              " 'pattern': 3489,\n",
              " 'emerg': 1441,\n",
              " 'tell': 4783,\n",
              " 'smoke': 4391,\n",
              " 'weed': 5328,\n",
              " 'fiend': 1646,\n",
              " 'imped': 2290,\n",
              " 'hesit': 2125,\n",
              " 'girl': 1898,\n",
              " 'happen': 2058,\n",
              " 'alian': 135,\n",
              " 'imposs': 2294,\n",
              " 'argu': 262,\n",
              " 'alway': 157,\n",
              " 'treat': 5002,\n",
              " 'releas': 3941,\n",
              " 'remind': 3951,\n",
              " 'necessari': 3176,\n",
              " 'sunshin': 4662,\n",
              " 'quiz': 3834,\n",
              " 'wkli': 5428,\n",
              " 'win': 5396,\n",
              " 'soni': 4439,\n",
              " 'dvd': 1373,\n",
              " 'player': 3599,\n",
              " 'countri': 1018,\n",
              " 'algarv': 131,\n",
              " 'ansr': 198,\n",
              " 'sp': 4463,\n",
              " 'tyron': 5064,\n",
              " 'bother': 574,\n",
              " 'trust': 5023,\n",
              " 'bloomberg': 536,\n",
              " 'center': 767,\n",
              " 'appli': 237,\n",
              " 'futur': 1822,\n",
              " 'http': 2212,\n",
              " 'career': 734,\n",
              " 'com': 930,\n",
              " 'worth': 5463,\n",
              " 'discount': 1260,\n",
              " 'savamob': 4128,\n",
              " 'member': 2938,\n",
              " 'offer': 3318,\n",
              " 'pobox': 3619,\n",
              " 'uz': 5176,\n",
              " 'grr': 2004,\n",
              " 'mom': 3043,\n",
              " 'forev': 1734,\n",
              " 'prescript': 3711,\n",
              " 'pharmaci': 3549,\n",
              " 'away': 351,\n",
              " 'batteri': 416,\n",
              " 'low': 2777,\n",
              " 'rose': 4041,\n",
              " 'water': 5300,\n",
              " 'season': 4167,\n",
              " 'chang': 784,\n",
              " 'poet': 3627,\n",
              " 'imagin': 2280,\n",
              " 'phone': 3558,\n",
              " 'sm': 4377,\n",
              " 'frndship': 1790,\n",
              " 'latest': 2619,\n",
              " 'scroung': 4158,\n",
              " 'ammo': 168,\n",
              " 'ak': 118,\n",
              " 'part': 3470,\n",
              " 'check': 805,\n",
              " 'iq': 2378,\n",
              " 'sipix': 4330,\n",
              " 'fromm': 1796,\n",
              " 'deliveri': 1174,\n",
              " 'within': 5418,\n",
              " 'fact': 1578,\n",
              " 'ask': 291,\n",
              " 'ago': 98,\n",
              " 'nowaday': 3274,\n",
              " 'notixiqu': 3268,\n",
              " 'laxinorf': 2626,\n",
              " 'bambl': 389,\n",
              " 'entrop': 1469,\n",
              " 'ever': 1512,\n",
              " 'oblising': 3305,\n",
              " 'book': 560,\n",
              " 'masteriast': 2888,\n",
              " 'amplikat': 174,\n",
              " 'fidalf': 1643,\n",
              " 'champlaxig': 781,\n",
              " 'atroci': 315,\n",
              " 'wotz': 5467,\n",
              " 'opinion': 3365,\n",
              " 'junna': 2490,\n",
              " 'pin': 3580,\n",
              " 'favorit': 1615,\n",
              " 'oyster': 3429,\n",
              " 'sashimi': 4118,\n",
              " 'lar': 2611,\n",
              " 'stomach': 4576,\n",
              " 'rumbl': 4064,\n",
              " 'appl': 234,\n",
              " 'pair': 3441,\n",
              " 'malarki': 2847,\n",
              " 'import': 2291,\n",
              " 'hrishi': 2209,\n",
              " 'boo': 558,\n",
              " 'suppos': 4674,\n",
              " 'arr': 274,\n",
              " 'birthday': 509,\n",
              " 'oscar': 3395,\n",
              " 'bday': 429,\n",
              " 'real': 3887,\n",
              " 'april': 246,\n",
              " 'oooh': 3359,\n",
              " 'bed': 440,\n",
              " 'ridden': 4010,\n",
              " 'ey': 1570,\n",
              " 'onion': 3353,\n",
              " 'roast': 4026,\n",
              " 'anna': 189,\n",
              " 'nagar': 3139,\n",
              " 'afternoon': 90,\n",
              " 'bu': 645,\n",
              " 'coz': 1027,\n",
              " 'sort': 4452,\n",
              " 'stuff': 4619,\n",
              " 'bit': 511,\n",
              " 'longer': 2741,\n",
              " 'crowd': 1056,\n",
              " 'cardiff': 730,\n",
              " 'dave': 1126,\n",
              " 'notic': 3265,\n",
              " 'tenerif': 4794,\n",
              " 'tc': 4764,\n",
              " 'cw': 1095,\n",
              " 'wx': 5499,\n",
              " 'neva': 3196,\n",
              " 'grumbl': 2005,\n",
              " 'sad': 4081,\n",
              " 'lunch': 2797,\n",
              " 'meetin': 2927,\n",
              " 'hear': 2097,\n",
              " 'fr': 1756,\n",
              " 'lei': 2652,\n",
              " 'aiyo': 115,\n",
              " 'meh': 2930,\n",
              " 'small': 4379,\n",
              " 'macha': 2815,\n",
              " 'upset': 5139,\n",
              " 'assum': 302,\n",
              " 'mindset': 2980,\n",
              " 'wonder': 5446,\n",
              " 'begin': 452,\n",
              " 'anytim': 216,\n",
              " 'eaten': 1391,\n",
              " 'wan': 5281,\n",
              " 'immedi': 2286,\n",
              " 'first': 1676,\n",
              " 'song': 4438,\n",
              " 'stuck': 4611,\n",
              " 'reason': 3895,\n",
              " 'til': 4893,\n",
              " 'food': 1724,\n",
              " 'prefer': 3701,\n",
              " 'pap': 3454,\n",
              " 'slowli': 4374,\n",
              " 'load': 2719,\n",
              " 'sugar': 4644,\n",
              " 'squeeeeez': 4523,\n",
              " 'christma': 857,\n",
              " 'hug': 2215,\n",
              " 'lik': 2681,\n",
              " 'frndshp': 1791,\n",
              " 'den': 1178,\n",
              " 'cute': 1092,\n",
              " 'luvd': 2801,\n",
              " 'none': 3248,\n",
              " 'hate': 2073,\n",
              " 'moment': 3044,\n",
              " 'faith': 1585,\n",
              " 'luv': 2800,\n",
              " 'dude': 1359,\n",
              " 'afraid': 86,\n",
              " 'okey': 3336,\n",
              " 'dokey': 1299,\n",
              " 'guess': 2016,\n",
              " 'might': 2966,\n",
              " 'sir': 4331,\n",
              " 'velusami': 5200,\n",
              " 'birth': 507,\n",
              " 'bank': 396,\n",
              " 'facil': 1577,\n",
              " 'detail': 1202,\n",
              " 'lmao': 2716,\n",
              " 'workin': 5456,\n",
              " 'gee': 1861,\n",
              " 'thgt': 4843,\n",
              " 'nope': 3252,\n",
              " 'drivin': 1342,\n",
              " 'develop': 1206,\n",
              " 'photo': 3561,\n",
              " 'noth': 3263,\n",
              " 'di': 1215,\n",
              " 'wit': 5415,\n",
              " 'differ': 1230,\n",
              " 'replac': 3962,\n",
              " 'murali': 3118,\n",
              " 'contact': 981,\n",
              " 'attempt': 318,\n",
              " 'dept': 1188,\n",
              " 'min': 2976,\n",
              " 'accident': 31,\n",
              " 'delet': 1169,\n",
              " 'resend': 3971,\n",
              " 'hostel': 2188,\n",
              " 'absolut': 18,\n",
              " 'south': 4458,\n",
              " 'park': 3468,\n",
              " 'recent': 3905,\n",
              " 'hurt': 2232,\n",
              " 'teas': 4772,\n",
              " 'cri': 1049,\n",
              " 'die': 1226,\n",
              " 'plz': 3615,\n",
              " 'grave': 1982,\n",
              " 'stupid': 4620,\n",
              " 'bslvyl': 637,\n",
              " 'divorc': 1274,\n",
              " 'barbi': 400,\n",
              " 'ken': 2528,\n",
              " 'seen': 4180,\n",
              " 'holbi': 2159,\n",
              " 'rememb': 3948,\n",
              " 'satan': 4120,\n",
              " 'impost': 2295,\n",
              " 'pay': 3495,\n",
              " 'price': 3728,\n",
              " 'destini': 1201,\n",
              " 'pray': 3696,\n",
              " 'sindu': 4325,\n",
              " 'birla': 505,\n",
              " 'soft': 4413,\n",
              " 'didnt': 1224,\n",
              " 'holla': 2165,\n",
              " 'goodnight': 1944,\n",
              " 'thangam': 4819,\n",
              " 'ah': 100,\n",
              " 'confus': 970,\n",
              " 'doesnt': 1292,\n",
              " 'wrong': 5483,\n",
              " 'invit': 2369,\n",
              " 'anywher': 218,\n",
              " 'waqt': 5287,\n",
              " 'se': 4164,\n",
              " 'pehl': 3509,\n",
              " 'naseeb': 3155,\n",
              " 'zyada': 5596,\n",
              " 'kisi': 2554,\n",
              " 'ko': 2567,\n",
              " 'kuch': 2579,\n",
              " 'nahi': 3141,\n",
              " 'milta': 2975,\n",
              " 'zindgi': 5590,\n",
              " 'wo': 5436,\n",
              " 'jo': 2454,\n",
              " 'hum': 2221,\n",
              " 'socht': 4410,\n",
              " 'hai': 2035,\n",
              " 'ham': 2046,\n",
              " 'jeetey': 2436,\n",
              " 'spoon': 4508,\n",
              " 'tot': 4971,\n",
              " 'outsid': 3413,\n",
              " 'darren': 1118,\n",
              " 'cours': 1022,\n",
              " 'sim': 4316,\n",
              " 'lim': 2686,\n",
              " 'mp': 3081,\n",
              " 'wake': 5271,\n",
              " 'lindsay': 2689,\n",
              " 'sigh': 4307,\n",
              " 'bar': 399,\n",
              " 'ptbo': 3791,\n",
              " 'blue': 539,\n",
              " 'heron': 2124,\n",
              " 'lemm': 2654,\n",
              " 'swing': 4708,\n",
              " 'basic': 409,\n",
              " 'semest': 4190,\n",
              " 'somebodi': 4421,\n",
              " 'secretli': 4173,\n",
              " 'fanci': 1596,\n",
              " 'datebox': 1124,\n",
              " 'essexcm': 1497,\n",
              " 'xn': 5509,\n",
              " 'vodafon': 5242,\n",
              " 'th': 4817,\n",
              " 'gower': 1967,\n",
              " 'mate': 2891,\n",
              " 'wale': 5272,\n",
              " 'morrow': 3068,\n",
              " 'random': 3860,\n",
              " 'thanx': 4824,\n",
              " 'puttin': 3812,\n",
              " 'fone': 1723,\n",
              " 'place': 3590,\n",
              " 'key': 2533,\n",
              " 'window': 5401,\n",
              " 'soo': 4441,\n",
              " 'understand': 5096,\n",
              " 'ring': 4016,\n",
              " 'xxx': 5515,\n",
              " 'talent': 4736,\n",
              " 'town': 4979,\n",
              " 'mrt': 3087,\n",
              " 'finish': 1667,\n",
              " 'boy': 582,\n",
              " 'tour': 4977,\n",
              " 'vip': 5228,\n",
              " 'ticket': 4884,\n",
              " 'pre': 3699,\n",
              " 'club': 895,\n",
              " 'trackmarqu': 4985,\n",
              " 'ltd': 2787,\n",
              " 'info': 2326,\n",
              " 'vipclub': 5229,\n",
              " 'diet': 1228,\n",
              " 'slice': 4362,\n",
              " 'pizza': 3588,\n",
              " 'yesterday': 5552,\n",
              " 'wyli': 5500,\n",
              " 'tampa': 4744,\n",
              " 'sarasota': 4113,\n",
              " 'sent': 4200,\n",
              " 'jd': 2432,\n",
              " 'cum': 1077,\n",
              " 'execut': 1544,\n",
              " 'id': 2257,\n",
              " 'ryder': 4075,\n",
              " 'unsold': 5126,\n",
              " 'gibb': 1891,\n",
              " 'done': 1304,\n",
              " 'rayan': 3873,\n",
              " 'macleran': 2820,\n",
              " 'weird': 5336,\n",
              " 'bein': 456,\n",
              " 'woah': 5437,\n",
              " 'realis': 3889,\n",
              " 'actual': 51,\n",
              " 'signific': 4310,\n",
              " 'way': 5309,\n",
              " 'meant': 2916,\n",
              " 'jontin': 2468,\n",
              " 'earli': 1379,\n",
              " 'bird': 504,\n",
              " 'purchas': 3803,\n",
              " 'buzz': 680,\n",
              " 'goe': 1924,\n",
              " 'long': 2740,\n",
              " 'togeth': 4927,\n",
              " 'far': 1599,\n",
              " 'aww': 354,\n",
              " 'without': 5419,\n",
              " 'abj': 14,\n",
              " 'serv': 4210,\n",
              " 'stay': 4553,\n",
              " 'dad': 1102,\n",
              " 'alon': 145,\n",
              " 'moji': 3039,\n",
              " 'word': 5454,\n",
              " 'rich': 4008,\n",
              " 'fb': 1618,\n",
              " 'god': 1923,\n",
              " 'join': 2460,\n",
              " 'bear': 431,\n",
              " 'nick': 3215,\n",
              " 'tom': 4937,\n",
              " 'pete': 3542,\n",
              " 'dick': 1220,\n",
              " 'type': 5062,\n",
              " 'gay': 1852,\n",
              " 'upload': 5137,\n",
              " 'glad': 1905,\n",
              " 'walk': 5274,\n",
              " 'bedroom': 443,\n",
              " 'sed': 4176,\n",
              " ...}"
            ]
          },
          "metadata": {
            "tags": []
          },
          "execution_count": 30
        }
      ]
    },
    {
      "cell_type": "code",
      "metadata": {
        "id": "ZXXyNLPJXeOS",
        "colab_type": "code",
        "colab": {},
        "outputId": "eec289c8-9aa9-49a1-e89c-e3b5ad489a85"
      },
      "source": [
        "print(\"Total unique words:\", len(vectorizer.vocabulary_))\n",
        "print(\"Type of train_features:\", type(train_features))\n",
        "print(\"Shape of input data\", train_features.shape)"
      ],
      "execution_count": null,
      "outputs": [
        {
          "output_type": "stream",
          "text": [
            "Total unique words: 5597\n",
            "Type of train_features: <class 'scipy.sparse.csr.csr_matrix'>\n",
            "Shape of input data (4459, 5597)\n"
          ],
          "name": "stdout"
        }
      ]
    },
    {
      "cell_type": "markdown",
      "metadata": {
        "id": "qytJs3QcXeOb",
        "colab_type": "text"
      },
      "source": [
        "### 5. Model Building and Evaluation"
      ]
    },
    {
      "cell_type": "code",
      "metadata": {
        "id": "wkhFRntKXeOc",
        "colab_type": "code",
        "colab": {}
      },
      "source": [
        "from sklearn.linear_model import LogisticRegression\n",
        "from sklearn.tree import DecisionTreeClassifier\n",
        "from sklearn.svm import SVC\n",
        "from sklearn.metrics import accuracy_score"
      ],
      "execution_count": null,
      "outputs": []
    },
    {
      "cell_type": "markdown",
      "metadata": {
        "id": "Bp2PpI2vXeOh",
        "colab_type": "text"
      },
      "source": [
        "#### Logistic Regression"
      ]
    },
    {
      "cell_type": "code",
      "metadata": {
        "id": "j-Y4Db2OXeOj",
        "colab_type": "code",
        "colab": {}
      },
      "source": [
        "classifier = LogisticRegression()"
      ],
      "execution_count": null,
      "outputs": []
    },
    {
      "cell_type": "code",
      "metadata": {
        "id": "CdNahanCXeOw",
        "colab_type": "code",
        "colab": {},
        "outputId": "d7bd2fc4-ea73-41fe-a2fc-4cec48dbbbff"
      },
      "source": [
        "dense_features = train_features.toarray()\n",
        "dense_test = test_features.toarray()\n",
        "\n",
        "fit = classifier.fit(dense_features,train['sms_spam'])\n",
        "pred = fit.predict(dense_test)\n",
        "accuracy = accuracy_score(pred,test['sms_spam'])\n",
        "print('Accuracy of '+classifier.__class__.__name__+' is '+str(accuracy))"
      ],
      "execution_count": null,
      "outputs": [
        {
          "output_type": "stream",
          "text": [
            "Accuracy of LogisticRegression is 0.9838565022421525\n"
          ],
          "name": "stdout"
        }
      ]
    },
    {
      "cell_type": "code",
      "metadata": {
        "id": "cdXdbXEoXeO3",
        "colab_type": "code",
        "colab": {},
        "outputId": "449a8fac-4c53-4950-a7ca-bafb7eceb456"
      },
      "source": [
        "from sklearn import metrics\n",
        "con_metric = metrics.confusion_matrix(pred,test['sms_spam'])\n",
        "con_metric"
      ],
      "execution_count": null,
      "outputs": [
        {
          "output_type": "execute_result",
          "data": {
            "text/plain": [
              "array([[143,   0],\n",
              "       [ 18, 954]], dtype=int64)"
            ]
          },
          "metadata": {
            "tags": []
          },
          "execution_count": 39
        }
      ]
    },
    {
      "cell_type": "code",
      "metadata": {
        "id": "FwalT5GPXeO8",
        "colab_type": "code",
        "colab": {},
        "outputId": "f4d76e0c-4c1c-45a8-985c-8112527be345"
      },
      "source": [
        "# heatmap\n",
        "sns.heatmap(con_metric, annot=True, fmt='d')\n",
        "plt.title(\"Confusion Matrix\")\n",
        "plt.show()"
      ],
      "execution_count": null,
      "outputs": [
        {
          "output_type": "display_data",
          "data": {
            "image/png": "[encoded data removed]",
            "text/plain": [
              "<Figure size 432x288 with 2 Axes>"
            ]
          },
          "metadata": {
            "tags": [],
            "needs_background": "light"
          }
        }
      ]
    },
    {
      "cell_type": "code",
      "metadata": {
        "id": "5SSg_M__XePJ",
        "colab_type": "code",
        "colab": {},
        "outputId": "a2c5521d-d8d8-4cd3-a973-d970bafcd04f"
      },
      "source": [
        "#Checking Precision, Recall and F1 Score\n",
        "print(metrics.classification_report(pred,test['sms_spam']))"
      ],
      "execution_count": null,
      "outputs": [
        {
          "output_type": "stream",
          "text": [
            "              precision    recall  f1-score   support\n",
            "\n",
            "           0       0.89      1.00      0.94       143\n",
            "           1       1.00      0.98      0.99       972\n",
            "\n",
            "    accuracy                           0.98      1115\n",
            "   macro avg       0.94      0.99      0.97      1115\n",
            "weighted avg       0.99      0.98      0.98      1115\n",
            "\n"
          ],
          "name": "stdout"
        }
      ]
    },
    {
      "cell_type": "markdown",
      "metadata": {
        "id": "ms_eR_3JXePR",
        "colab_type": "text"
      },
      "source": [
        "#### Decision Tree"
      ]
    },
    {
      "cell_type": "code",
      "metadata": {
        "id": "KDozarmXXePT",
        "colab_type": "code",
        "colab": {}
      },
      "source": [
        "classifier_dt = DecisionTreeClassifier(max_depth = 2)"
      ],
      "execution_count": null,
      "outputs": []
    },
    {
      "cell_type": "code",
      "metadata": {
        "id": "95uzknOnXePX",
        "colab_type": "code",
        "colab": {},
        "outputId": "47e3ddca-7261-4417-b5ac-f38a3b949126"
      },
      "source": [
        "dense_features = train_features.toarray()\n",
        "dense_test = test_features.toarray()\n",
        "\n",
        "fit = classifier_dt.fit(dense_features,train['sms_spam'])\n",
        "pred = fit.predict(dense_test)\n",
        "accuracy = accuracy_score(pred,test['sms_spam'])\n",
        "print('Accuracy of '+classifier.__class__.__name__+' is '+str(accuracy))"
      ],
      "execution_count": null,
      "outputs": [
        {
          "output_type": "stream",
          "text": [
            "Accuracy of LogisticRegression is 0.9183856502242153\n"
          ],
          "name": "stdout"
        }
      ]
    },
    {
      "cell_type": "code",
      "metadata": {
        "id": "yy0d6i9FXePZ",
        "colab_type": "code",
        "colab": {},
        "outputId": "9ee1da4c-73ca-4e0b-b3c1-f8f08c0935c9"
      },
      "source": [
        "from sklearn import metrics\n",
        "con_metric = metrics.confusion_matrix(pred,test['sms_spam'])\n",
        "con_metric"
      ],
      "execution_count": null,
      "outputs": [
        {
          "output_type": "execute_result",
          "data": {
            "text/plain": [
              "array([[111,  41],\n",
              "       [ 50, 913]], dtype=int64)"
            ]
          },
          "metadata": {
            "tags": []
          },
          "execution_count": 45
        }
      ]
    },
    {
      "cell_type": "code",
      "metadata": {
        "id": "33vFJxo3XePj",
        "colab_type": "code",
        "colab": {},
        "outputId": "9fa8e688-86b6-4cd7-bc35-f1147b639e3b"
      },
      "source": [
        "# heatmap\n",
        "sns.heatmap(con_metric, annot=True, fmt='d')\n",
        "plt.title(\"Confusion Matrix\")\n",
        "plt.show()"
      ],
      "execution_count": null,
      "outputs": [
        {
          "output_type": "display_data",
          "data": {
            "image/png": "[encoded data removed]",
            "text/plain": [
              "<Figure size 432x288 with 2 Axes>"
            ]
          },
          "metadata": {
            "tags": [],
            "needs_background": "light"
          }
        }
      ]
    },
    {
      "cell_type": "code",
      "metadata": {
        "id": "PoOpUqlmXePn",
        "colab_type": "code",
        "colab": {},
        "outputId": "6dba4c95-de69-4f49-849b-dd1199bff011"
      },
      "source": [
        "#Checking Precision, Recall and F1 Score\n",
        "print(metrics.classification_report(pred,test['sms_spam']))"
      ],
      "execution_count": null,
      "outputs": [
        {
          "output_type": "stream",
          "text": [
            "              precision    recall  f1-score   support\n",
            "\n",
            "           0       0.69      0.73      0.71       152\n",
            "           1       0.96      0.95      0.95       963\n",
            "\n",
            "    accuracy                           0.92      1115\n",
            "   macro avg       0.82      0.84      0.83      1115\n",
            "weighted avg       0.92      0.92      0.92      1115\n",
            "\n"
          ],
          "name": "stdout"
        }
      ]
    },
    {
      "cell_type": "markdown",
      "metadata": {
        "id": "Sll7KqdeXePp",
        "colab_type": "text"
      },
      "source": [
        "#### SVM"
      ]
    },
    {
      "cell_type": "code",
      "metadata": {
        "id": "iL5lRx68XePq",
        "colab_type": "code",
        "colab": {}
      },
      "source": [
        "classifier_svc = SVC()"
      ],
      "execution_count": null,
      "outputs": []
    },
    {
      "cell_type": "code",
      "metadata": {
        "id": "iPmrSqYEXeP2",
        "colab_type": "code",
        "colab": {},
        "outputId": "b557da70-e13e-41ca-9095-7bb787e12fd7"
      },
      "source": [
        "dense_features = train_features.toarray()\n",
        "dense_test = test_features.toarray()\n",
        "\n",
        "fit = classifier_svc.fit(dense_features,train['sms_spam'])\n",
        "pred = fit.predict(dense_test)\n",
        "accuracy = accuracy_score(pred,test['sms_spam'])\n",
        "print('Accuracy of '+classifier.__class__.__name__+' is '+str(accuracy))"
      ],
      "execution_count": null,
      "outputs": [
        {
          "output_type": "stream",
          "text": [
            "Accuracy of LogisticRegression is 0.9829596412556054\n"
          ],
          "name": "stdout"
        }
      ]
    },
    {
      "cell_type": "code",
      "metadata": {
        "id": "i0bgD4vHXeP5",
        "colab_type": "code",
        "colab": {},
        "outputId": "00301d65-815d-40d1-c43b-3ca649fd2db7"
      },
      "source": [
        "from sklearn import metrics\n",
        "con_metric = metrics.confusion_matrix(pred,test['sms_spam'])\n",
        "con_metric"
      ],
      "execution_count": null,
      "outputs": [
        {
          "output_type": "execute_result",
          "data": {
            "text/plain": [
              "array([[142,   0],\n",
              "       [ 19, 954]], dtype=int64)"
            ]
          },
          "metadata": {
            "tags": []
          },
          "execution_count": 51
        }
      ]
    },
    {
      "cell_type": "code",
      "metadata": {
        "id": "MIwya39YXeP8",
        "colab_type": "code",
        "colab": {},
        "outputId": "03c5027b-71a6-44f5-9f10-e179a2804725"
      },
      "source": [
        "# heatmap\n",
        "sns.heatmap(con_metric, annot=True, fmt='d')\n",
        "plt.title(\"Confusion Matrix\")\n",
        "plt.show()"
      ],
      "execution_count": null,
      "outputs": [
        {
          "output_type": "display_data",
          "data": {
            "image/png": "[encoded data removed]",
            "text/plain": [
              "<Figure size 432x288 with 2 Axes>"
            ]
          },
          "metadata": {
            "tags": [],
            "needs_background": "light"
          }
        }
      ]
    },
    {
      "cell_type": "code",
      "metadata": {
        "id": "YBoCxjipXeQB",
        "colab_type": "code",
        "colab": {},
        "outputId": "c9764bbf-ca1d-421c-8270-323522203ab9"
      },
      "source": [
        "#Checking Precision, Recall and F1 Score\n",
        "print(metrics.classification_report(pred,test['sms_spam']))"
      ],
      "execution_count": null,
      "outputs": [
        {
          "output_type": "stream",
          "text": [
            "              precision    recall  f1-score   support\n",
            "\n",
            "           0       0.88      1.00      0.94       142\n",
            "           1       1.00      0.98      0.99       973\n",
            "\n",
            "    accuracy                           0.98      1115\n",
            "   macro avg       0.94      0.99      0.96      1115\n",
            "weighted avg       0.98      0.98      0.98      1115\n",
            "\n"
          ],
          "name": "stdout"
        }
      ]
    }
  ]
}