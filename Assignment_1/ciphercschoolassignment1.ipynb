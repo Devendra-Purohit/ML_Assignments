{
  "nbformat": 4,
  "nbformat_minor": 0,
  "metadata": {
    "colab": {
      "name": "ciphercschoolassignment1.ipynb",
      "provenance": [],
      "collapsed_sections": []
    },
    "kernelspec": {
      "name": "python3",
      "display_name": "Python 3"
    }
  },
  "cells": [
    {
      "cell_type": "markdown",
      "metadata": {
        "id": "WKmRVEQazQ3_",
        "colab_type": "text"
      },
      "source": [
        "###Question 1 : Write a program to get a user input in the form of a list data type. Return a list by removing all the duplicates.\n",
        "\n",
        "###Sample Input -> [4, 4, 5, 6, 8, 4, 5]\n",
        "\n",
        "###Output -> [4, 5, 6, 8]\n",
        "\n",
        "###NOTE: Take user input using a for loop."
      ]
    },
    {
      "cell_type": "code",
      "metadata": {
        "id": "hXka_lrkd8XA",
        "colab_type": "code",
        "outputId": "6817d2a6-c23a-4663-ac10-1a61f6813e95",
        "colab": {
          "base_uri": "https://localhost:8080/",
          "height": 253
        }
      },
      "source": [
        "list1=[]\n",
        "print(\"Enter the length:\")\n",
        "length = int(input())\n",
        "print(\"Enter the numbers:\")\n",
        "for dp in range (length) :\n",
        "  numbers=input()\n",
        "  list1.append(numbers)\n",
        "l=len(list1)\n",
        "print(l)\n",
        "list2=[]\n",
        "for k in list1:\n",
        "  if k not in list2:\n",
        "    list2.append(k)\n",
        "print(list1)\n",
        "print(list2)"
      ],
      "execution_count": 5,
      "outputs": [
        {
          "output_type": "stream",
          "text": [
            "Enter the length:\n",
            "7\n",
            "Enter the numbers:\n",
            "4\n",
            "4\n",
            "5\n",
            "6\n",
            "8\n",
            "4\n",
            "5\n",
            "7\n",
            "['4', '4', '5', '6', '8', '4', '5']\n",
            "['4', '5', '6', '8']\n"
          ],
          "name": "stdout"
        }
      ]
    },
    {
      "cell_type": "markdown",
      "metadata": {
        "id": "o4CMgodvzeaA",
        "colab_type": "text"
      },
      "source": [
        "### Question 2 : Write a program to create a user defined tuple with ‘int’ data type and perform the following operations: \n",
        "\n",
        "###Find the length of tuples \n",
        "\n",
        "###Find the sum of all the elements of a tuple \n",
        "\n",
        "###Find the largest and smallest elements of a tuple"
      ]
    },
    {
      "cell_type": "code",
      "metadata": {
        "id": "mnGIca6rzcvE",
        "colab_type": "code",
        "outputId": "9b7b118f-3bcf-44cf-8904-c84ad091fe67",
        "colab": {
          "base_uri": "https://localhost:8080/",
          "height": 253
        }
      },
      "source": [
        "t= ()\n",
        "listt = []\n",
        "print(\"enter the length of list you want:\")\n",
        "length= int(input())\n",
        "print(\"enter the elements:\")\n",
        "for i  in range (length):\n",
        "  ele= int(input())\n",
        "  listt.append(ele)\n",
        "  i+1\n",
        "t=tuple(listt)\n",
        "print(t)\n",
        "print(type(t))\n",
        "l=len(t)\n",
        "print(l)\n",
        "s=0\n",
        "for i in range (l):\n",
        "  s+=t[i]\n",
        "print (s)\n",
        "print(\"smallest number of tuple:\",min(t))\n",
        "print(\"largest nummber of tuple:\",max(t))"
      ],
      "execution_count": 6,
      "outputs": [
        {
          "output_type": "stream",
          "text": [
            "enter the length of list you want:\n",
            "4\n",
            "enter the elements:\n",
            "1\n",
            "2\n",
            "4\n",
            "3\n",
            "(1, 2, 4, 3)\n",
            "<class 'tuple'>\n",
            "4\n",
            "10\n",
            "smallest number of tuple: 1\n",
            "largest nummber of tuple: 4\n"
          ],
          "name": "stdout"
        }
      ]
    },
    {
      "cell_type": "markdown",
      "metadata": {
        "id": "581M1r4q_FHy",
        "colab_type": "text"
      },
      "source": [
        "###Question 3 : Given a number and ith bit, change the ith bit of that number to 1.\n",
        "###Sample Input -> num = 13, i = 1\n",
        "###Output -> 15\n",
        "### Explanation -> 13 can be represented as 1101 in binary. Now if we set the 1st bit of this binary represented value, we will get 1111 (i.e. 15) as output.\n"
      ]
    },
    {
      "cell_type": "code",
      "metadata": {
        "id": "6mz6nGKG_W-H",
        "colab_type": "code",
        "outputId": "d51f7eac-309d-416d-8331-5ec5a38abcd0",
        "colab": {
          "base_uri": "https://localhost:8080/",
          "height": 35
        }
      },
      "source": [
        "a=9\n",
        "i=2\n",
        "ans = ((1 << i) | a)\n",
        "print (ans)"
      ],
      "execution_count": 0,
      "outputs": [
        {
          "output_type": "stream",
          "text": [
            "13\n"
          ],
          "name": "stdout"
        }
      ]
    },
    {
      "cell_type": "markdown",
      "metadata": {
        "id": "l9abJRcbFGDz",
        "colab_type": "text"
      },
      "source": [
        "### Question 4 : Given a number, print 1 if the number is odd otherwise print 0.\n",
        "###NOTE: Try to do this program without the use of if else statement."
      ]
    },
    {
      "cell_type": "code",
      "metadata": {
        "id": "0D3HlwMQFRI9",
        "colab_type": "code",
        "outputId": "d15321c4-abf1-43f8-8df3-63bd1af9f51c",
        "colab": {
          "base_uri": "https://localhost:8080/",
          "height": 90
        }
      },
      "source": [
        "print(\"Enter any any number:\")\n",
        "aa= int(input())\n",
        "print(\"The number is:\",aa)\n",
        "while(aa%2==0):\n",
        "  print(\"0\")\n",
        "  break\n",
        "while(aa%2!=0):\n",
        "  print(\"1\")\n",
        "  break"
      ],
      "execution_count": 7,
      "outputs": [
        {
          "output_type": "stream",
          "text": [
            "Enter any any number:\n",
            "9\n",
            "The number is: 9\n",
            "1\n"
          ],
          "name": "stdout"
        }
      ]
    },
    {
      "cell_type": "markdown",
      "metadata": {
        "id": "kdZDL1w6GnZ-",
        "colab_type": "text"
      },
      "source": [
        "###Question 5 : Given two lists of integers A and B. Write a program to merge them into a single sorted list that contains every item from list A and B in ascending order."
      ]
    },
    {
      "cell_type": "code",
      "metadata": {
        "id": "wGPCrDcAGwO3",
        "colab_type": "code",
        "outputId": "65568e49-6ee4-4c73-baac-fcaf0b4badc9",
        "colab": {
          "base_uri": "https://localhost:8080/",
          "height": 34
        }
      },
      "source": [
        "list3 = [4,3,8,1]\n",
        "list4 = [5,7,2,6]\n",
        "list5 = list3 + list4\n",
        "list5.sort()\n",
        "print(list5)"
      ],
      "execution_count": 0,
      "outputs": [
        {
          "output_type": "stream",
          "text": [
            "[1, 2, 3, 4, 5, 6, 7, 8]\n"
          ],
          "name": "stdout"
        }
      ]
    },
    {
      "cell_type": "markdown",
      "metadata": {
        "id": "xvlPPgwsH_JD",
        "colab_type": "text"
      },
      "source": [
        "###Question 6 : Create a user defined dictionary to store names and marks of 5 students. Sort the dictionary according to marks and return this sorted dictionary to the user.\n",
        "###Sample Input -> {'Berlin': 70, 'Oslo':0, 'Moscow':50, 'Nairobi':100}\n",
        "###Output -> {'Oslo':0, 'Moscow':50, 'Berlin': 70, 'Nairobi':100}\n"
      ]
    },
    {
      "cell_type": "code",
      "metadata": {
        "id": "Se0f05ygIymz",
        "colab_type": "code",
        "outputId": "17a076ee-f17c-435f-eda8-6af3165f6011",
        "colab": {
          "base_uri": "https://localhost:8080/",
          "height": 308
        }
      },
      "source": [
        "list6 = []\n",
        "list7 = []\n",
        "print(\"Enter the names of 5 student\")\n",
        "for i in range (5) :\n",
        "  n = input()\n",
        "  list6.append(n)\n",
        "print(\"Enter the marks of 5 student respectively\")\n",
        "for i in range (5) :\n",
        "  m = input()\n",
        "  list7.append(m)\n",
        "print(list7)\n",
        "print(list6)\n",
        "dict1 =  dict(zip(list6,list7))\n",
        "print(dict1)\n",
        "dict2 = sorted(dict1.items(), key=lambda kv: kv[1])\n",
        "print (dict(dict2))"
      ],
      "execution_count": 9,
      "outputs": [
        {
          "output_type": "stream",
          "text": [
            "Enter the names of 5 student\n",
            "Aditya\n",
            "Bhavesh\n",
            "Chetan\n",
            "Deepak\n",
            "Ehsaan\n",
            "Enter the marks of 5 student respectively\n",
            "75\n",
            "55\n",
            "40\n",
            "85\n",
            "60\n",
            "['75', '55', '40', '85', '60']\n",
            "['Aditya', 'Bhavesh', 'Chetan', 'Deepak', 'Ehsaan']\n",
            "{'Aditya': '75', 'Bhavesh': '55', 'Chetan': '40', 'Deepak': '85', 'Ehsaan': '60'}\n",
            "{'Chetan': '40', 'Bhavesh': '55', 'Ehsaan': '60', 'Aditya': '75', 'Deepak': '85'}\n"
          ],
          "name": "stdout"
        }
      ]
    }
  ]
}